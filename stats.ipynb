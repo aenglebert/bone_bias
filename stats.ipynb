{
 "cells": [
  {
   "cell_type": "code",
   "execution_count": 1,
   "id": "470a333d-2cc6-42f7-ba48-90f3bb75f846",
   "metadata": {},
   "outputs": [],
   "source": [
    "import pandas as pd"
   ]
  },
  {
   "cell_type": "code",
   "execution_count": null,
   "id": "fb3e9b05-31dd-4f5e-9845-bf539637ad34",
   "metadata": {},
   "outputs": [],
   "source": []
  },
  {
   "cell_type": "markdown",
   "id": "5cf97333-008c-4d22-a049-08785c3c0fb5",
   "metadata": {},
   "source": [
    "## Loading predictions and targets"
   ]
  },
  {
   "cell_type": "code",
   "execution_count": 37,
   "id": "363581c7-1208-47fe-8754-d9dfc15929b4",
   "metadata": {},
   "outputs": [],
   "source": [
    "# Replace with the path to checkpoints\n",
    "\n",
    "#results_path = [\n",
    "#'cast20imagenet20230821-104820_fold0-epoch=19-val_auroc=0_mean.csv',\n",
    "#'cast20imagenet20230822-160601_fold1-epoch=19-val_auroc=0_mean.csv',\n",
    "#'cast20imagenet20230822-172537_fold2-epoch=19-val_auroc=0_mean.csv',\n",
    "#'cast20imagenet20230822-184142_fold3-epoch=19-val_auroc=0_mean.csv',\n",
    "#'cast20imagenet20230822-195857_fold4-epoch=19-val_auroc=0_mean.csv',\n",
    "#]\n",
    "\n",
    "result_path = [\n",
    "    \n",
    "'imagenet20230820-141826_fold0-epoch=19-val_auroc=0_mean.csv',\n",
    "'imagenet20230823-122216_fold1-epoch=19-val_auroc=0_mean.csv',\n",
    "'imagenet20230823-133342_fold2-epoch=19-val_auroc=0_mean.csv',\n",
    "'imagenet20230823-144846_fold3-epoch=19-val_auroc=0_mean.csv',\n",
    "'imagenet20230823-160327_fold4-epoch=19-val_auroc=0_mean.csv',\n",
    "]"
   ]
  },
  {
   "cell_type": "code",
   "execution_count": 38,
   "id": "7bda587c-a321-4c88-9ea6-af23773b4eaf",
   "metadata": {},
   "outputs": [],
   "source": [
    "res_df = pd.DataFrame()\n",
    "\n",
    "# Load results for the ensemble\n",
    "for idx, path in enumerate(results_path):\n",
    "    cur_df = pd.read_csv(path)\n",
    "    res_df[idx] = cur_df[\"0\"]\n",
    "\n",
    "\n",
    "# Get mean\n",
    "res_df[\"mean_pred\"] = res_df.mean(axis=1)\n",
    "\n",
    "# Load target results\n",
    "res_df[\"target\"] = pd.read_csv(\"input/mura-v11/MURA-v1.1/valid_labeled_studies.csv\", header=None)[1]"
   ]
  },
  {
   "cell_type": "markdown",
   "id": "1ea096ad-609b-4f7f-8385-c9e732763be8",
   "metadata": {},
   "source": [
    "## Boostraping for AUROC and AUPRC"
   ]
  },
  {
   "cell_type": "code",
   "execution_count": 39,
   "id": "48b57f80-4f0c-4274-b7e7-f2975327a869",
   "metadata": {},
   "outputs": [],
   "source": [
    "# scikit-learn bootstrap\n",
    "from sklearn.utils import resample\n",
    "from sklearn.metrics import precision_recall_curve, roc_curve, auc, accuracy_score, classification_report, f1_score\n",
    "from tqdm import trange"
   ]
  },
  {
   "cell_type": "code",
   "execution_count": 40,
   "id": "bbb36f9c-4add-4f80-8ea6-6302907c9cfe",
   "metadata": {},
   "outputs": [
    {
     "name": "stderr",
     "output_type": "stream",
     "text": [
      "100%|██████████████████████████████████████████████████████████| 1000/1000 [00:04<00:00, 217.38it/s]\n"
     ]
    }
   ],
   "source": [
    "auc_list = []\n",
    "auprc_list = []\n",
    "acc_list = []\n",
    "f1_list = []\n",
    "\n",
    "for i in trange(1000):\n",
    "    boot = resample(res_df, replace=True, n_samples=len(res_df))\n",
    "    precision, recall, _ = precision_recall_curve(boot.target, boot.mean_pred)\n",
    "    fpr, tpr, thresholds = roc_curve(boot.target, boot.mean_pred)\n",
    "    auc_list.append(auc(fpr, tpr))\n",
    "    auprc_list.append(auc(recall, precision))\n",
    "    acc_list.append(accuracy_score(boot.target, boot.mean_pred > 0.5))\n",
    "    f1_list.append(f1_score(boot.target, boot.mean_pred > 0.5))\n",
    "    \n",
    "\n",
    "\n",
    "\n",
    "def ic95(score_list):\n",
    "    sorted_scores = score_list\n",
    "    sorted_scores.sort()\n",
    "\n",
    "    median = sorted_scores[int(0.5 * len(sorted_scores))]\n",
    "    confidence_lower = sorted_scores[int(0.025 * len(sorted_scores))]\n",
    "    confidence_upper = sorted_scores[int(0.975 * len(sorted_scores))]\n",
    "    return confidence_lower.item(), median.item(), confidence_upper.item()\n",
    "\n",
    "def print_ic95(score_list):\n",
    "    confidence_lower, median, confidence_upper = ic95(score_list)\n",
    "    print('median: {:.3} - IC95: [{:.3}, {:.3}]'.format(median, confidence_lower, confidence_upper))\n"
   ]
  },
  {
   "cell_type": "code",
   "execution_count": 41,
   "id": "7bf51f39-5912-41cc-926d-c8f2fa3274ab",
   "metadata": {},
   "outputs": [
    {
     "name": "stdout",
     "output_type": "stream",
     "text": [
      "AUROC | median: 0.895 - IC95: [0.875, 0.913]\n",
      "AUPRC | median: 0.885 - IC95: [0.857, 0.908]\n",
      "Accuracy | median: 0.839 - IC95: [0.819, 0.857]\n",
      "F1 Score | median: 0.806 - IC95: [0.778, 0.829]\n"
     ]
    }
   ],
   "source": [
    "print(\"AUROC | \", end=\"\")\n",
    "print_ic95(auc_list)\n",
    "print(\"AUPRC | \", end=\"\")\n",
    "print_ic95(auprc_list)\n",
    "print(\"Accuracy | \", end=\"\")\n",
    "print_ic95(acc_list)\n",
    "print(\"F1 Score | \", end=\"\")\n",
    "print_ic95(f1_list)"
   ]
  },
  {
   "cell_type": "code",
   "execution_count": null,
   "id": "27d0892d-4c9c-444c-b9be-b855451bda46",
   "metadata": {},
   "outputs": [],
   "source": []
  },
  {
   "cell_type": "code",
   "execution_count": null,
   "id": "268b6e9b-01c5-4f75-a832-0e488a513673",
   "metadata": {},
   "outputs": [],
   "source": []
  },
  {
   "cell_type": "code",
   "execution_count": null,
   "id": "9c3d5ff0-4d0a-4f52-b436-6fe5fd723b7b",
   "metadata": {},
   "outputs": [],
   "source": []
  },
  {
   "cell_type": "code",
   "execution_count": null,
   "id": "9f413d9b-d487-4d32-b6e8-5201a8f3ddbb",
   "metadata": {},
   "outputs": [],
   "source": []
  },
  {
   "cell_type": "code",
   "execution_count": null,
   "id": "bc87710f-e52e-4e02-a0ef-b93ae425b444",
   "metadata": {},
   "outputs": [],
   "source": []
  }
 ],
 "metadata": {
  "kernelspec": {
   "display_name": "boneBias",
   "language": "python",
   "name": "bonebias"
  },
  "language_info": {
   "codemirror_mode": {
    "name": "ipython",
    "version": 3
   },
   "file_extension": ".py",
   "mimetype": "text/x-python",
   "name": "python",
   "nbconvert_exporter": "python",
   "pygments_lexer": "ipython3",
   "version": "3.10.11"
  }
 },
 "nbformat": 4,
 "nbformat_minor": 5
}
